{
 "cells": [
  {
   "cell_type": "code",
   "execution_count": 1,
   "metadata": {
    "scrolled": true
   },
   "outputs": [
    {
     "name": "stdout",
     "output_type": "stream",
     "text": [
      "Requirement already satisfied: psycopg2 in d:\\anaconda\\lib\\site-packages (2.8.4)\n",
      "Note: you may need to restart the kernel to use updated packages.\n"
     ]
    }
   ],
   "source": [
    "# Домашнее задание №2.\n",
    "# Пункт 1.\n",
    "\n",
    "# Команда соединяет Python с БД по API. Предварительно необходимо установить пакет Anaconda для исполнения команд в Jupyter Notebook.\n",
    "# Первым шагом установливаем библиотеку psycopg2 для работы с PostgreSQL.\n",
    "pip install psycopg2"
   ]
  },
  {
   "cell_type": "code",
   "execution_count": 1,
   "metadata": {
    "scrolled": true
   },
   "outputs": [
    {
     "name": "stdout",
     "output_type": "stream",
     "text": [
      "Insert password: ········\n",
      "{'user': 'postgres', 'dbname': 'postgres', 'host': 'localhost', 'port': '5432', 'tty': '', 'options': '', 'sslmode': 'prefer', 'sslcompression': '0', 'krbsrvname': 'postgres', 'target_session_attrs': 'any'}\n"
     ]
    }
   ],
   "source": [
    "# Затем создаем соединение с БД. Чтобы посмотреть необходимые данные для подключения необходимо зайти в настройке вашего субд. \n",
    "# Если вы использовали PostgreSQL, данные можно посмотреть открыв SQL Shell на вашем компьютере.\n",
    "# Данные для подлючения будут показаны после нескольких нажатий на enter.\n",
    "import psycopg2 # это драйвер для postgresql\n",
    "import getpass # это функция, которая скрывает пароль, можно не вводить данную функцию, \n",
    "# тогда в строке password вам необходимо указать свой пароль от базы данных \n",
    "conn=psycopg2.connect(user = 'postgres',\n",
    "                     database = 'postgres',\n",
    "                     host = 'localhost',\n",
    "                     port = '5432',\n",
    "                     password = getpass.getpass('Insert password: '))\n",
    "# Проверяем подлючение\n",
    "print(conn.get_dsn_parameters()) "
   ]
  },
  {
   "cell_type": "code",
   "execution_count": 2,
   "metadata": {},
   "outputs": [],
   "source": [
    "# Пункт 2.\n",
    "# Для того, чтобы обратиться к БД за данными для пункта 3 необходимо установить пакет pandas.\n",
    "import pandas as pd"
   ]
  },
  {
   "cell_type": "code",
   "execution_count": 19,
   "metadata": {},
   "outputs": [
    {
     "data": {
      "text/html": [
       "<div>\n",
       "<style scoped>\n",
       "    .dataframe tbody tr th:only-of-type {\n",
       "        vertical-align: middle;\n",
       "    }\n",
       "\n",
       "    .dataframe tbody tr th {\n",
       "        vertical-align: top;\n",
       "    }\n",
       "\n",
       "    .dataframe thead th {\n",
       "        text-align: right;\n",
       "    }\n",
       "</style>\n",
       "<table border=\"1\" class=\"dataframe\">\n",
       "  <thead>\n",
       "    <tr style=\"text-align: right;\">\n",
       "      <th></th>\n",
       "      <th>ent_name</th>\n",
       "      <th>grade</th>\n",
       "      <th>data</th>\n",
       "    </tr>\n",
       "  </thead>\n",
       "  <tbody>\n",
       "    <tr>\n",
       "      <td>0</td>\n",
       "      <td>1-й НПФ</td>\n",
       "      <td>A+</td>\n",
       "      <td>2014-03-26</td>\n",
       "    </tr>\n",
       "    <tr>\n",
       "      <td>1</td>\n",
       "      <td>А ПЛЮС ПАРК КОЛПИНО</td>\n",
       "      <td>A</td>\n",
       "      <td>2014-09-23</td>\n",
       "    </tr>\n",
       "    <tr>\n",
       "      <td>2</td>\n",
       "      <td>Абсолют Cтрахование</td>\n",
       "      <td>A+</td>\n",
       "      <td>2014-07-01</td>\n",
       "    </tr>\n",
       "    <tr>\n",
       "      <td>3</td>\n",
       "      <td>Аврора Капитал ИК</td>\n",
       "      <td>A</td>\n",
       "      <td>2014-09-24</td>\n",
       "    </tr>\n",
       "    <tr>\n",
       "      <td>4</td>\n",
       "      <td>Аврора Капитал ИК</td>\n",
       "      <td>A</td>\n",
       "      <td>2014-09-09</td>\n",
       "    </tr>\n",
       "    <tr>\n",
       "      <td>...</td>\n",
       "      <td>...</td>\n",
       "      <td>...</td>\n",
       "      <td>...</td>\n",
       "    </tr>\n",
       "    <tr>\n",
       "      <td>906</td>\n",
       "      <td>ЮЭСЭМ МЕТАЛЛОИНВЕСТ</td>\n",
       "      <td>A+</td>\n",
       "      <td>2014-12-16</td>\n",
       "    </tr>\n",
       "    <tr>\n",
       "      <td>907</td>\n",
       "      <td>Якорь</td>\n",
       "      <td>A</td>\n",
       "      <td>2014-12-23</td>\n",
       "    </tr>\n",
       "    <tr>\n",
       "      <td>908</td>\n",
       "      <td>Якутский Фондовый Центр</td>\n",
       "      <td>A</td>\n",
       "      <td>2014-09-30</td>\n",
       "    </tr>\n",
       "    <tr>\n",
       "      <td>909</td>\n",
       "      <td>Якутуглестрой</td>\n",
       "      <td>A</td>\n",
       "      <td>2014-10-07</td>\n",
       "    </tr>\n",
       "    <tr>\n",
       "      <td>910</td>\n",
       "      <td>ЯМАЛ-300</td>\n",
       "      <td>A+</td>\n",
       "      <td>2014-10-07</td>\n",
       "    </tr>\n",
       "  </tbody>\n",
       "</table>\n",
       "<p>911 rows × 3 columns</p>\n",
       "</div>"
      ],
      "text/plain": [
       "                    ent_name grade        data\n",
       "0                    1-й НПФ    A+  2014-03-26\n",
       "1        А ПЛЮС ПАРК КОЛПИНО     A  2014-09-23\n",
       "2        Абсолют Cтрахование    A+  2014-07-01\n",
       "3          Аврора Капитал ИК     A  2014-09-24\n",
       "4          Аврора Капитал ИК     A  2014-09-09\n",
       "..                       ...   ...         ...\n",
       "906      ЮЭСЭМ МЕТАЛЛОИНВЕСТ    A+  2014-12-16\n",
       "907                    Якорь     A  2014-12-23\n",
       "908  Якутский Фондовый Центр     A  2014-09-30\n",
       "909            Якутуглестрой     A  2014-10-07\n",
       "910                 ЯМАЛ-300    A+  2014-10-07\n",
       "\n",
       "[911 rows x 3 columns]"
      ]
     },
     "execution_count": 19,
     "metadata": {},
     "output_type": "execute_result"
    }
   ],
   "source": [
    "# Далее с помощью запроса через query получаем из таблицы ratings_task в БД вид рейтинга grade, дату data и эмитента ent_name\n",
    "# помещаем данные в таблицу data\n",
    "query=\"SELECT ent_name, grade, data FROM ratings_task WHERE data >= '01.01.2014' AND data <= '01.01.2015' AND agency_id = 'EXP'\"\n",
    "data=pd.read_sql_query(query,conn)\n",
    "data\n",
    "\n",
    "# Если необходимо изменить диапазон дат, то, в условии WHERE нужно задать требуемый диапазон"
   ]
  },
  {
   "cell_type": "code",
   "execution_count": 25,
   "metadata": {},
   "outputs": [],
   "source": [
    "# Пункт 3.\n",
    "# Перед созданием функции определяемся с аргументами:\n",
    "# вид рейтинга - grade, дата присвоения - data (для установки границ периода наблюдений пользователем) и login - db_login.\n",
    "def my_fun(grade,data,db_login):\n",
    "    import pandas as pd\n",
    "    conn=psycopg2.connect(user=db_login['user'],\n",
    "                      database=db_login['database'],\n",
    "                      host=db_login['host'],\n",
    "                      port=db_login['port'],\n",
    "                      password=getpass.getpass('Insert password: '))\n",
    "    query=\"SELECT ent_name, grade, data FROM ratings_task WHERE data >= '01.01.2014' AND data <= '01.01.2015' AND agency_id = 'EXP' \"\n",
    "    data=pd.read_sql_query(query,conn)\n",
    " "
   ]
  },
  {
   "cell_type": "code",
   "execution_count": 27,
   "metadata": {},
   "outputs": [
    {
     "data": {
      "text/html": [
       "<div>\n",
       "<style scoped>\n",
       "    .dataframe tbody tr th:only-of-type {\n",
       "        vertical-align: middle;\n",
       "    }\n",
       "\n",
       "    .dataframe tbody tr th {\n",
       "        vertical-align: top;\n",
       "    }\n",
       "\n",
       "    .dataframe thead th {\n",
       "        text-align: right;\n",
       "    }\n",
       "</style>\n",
       "<table border=\"1\" class=\"dataframe\">\n",
       "  <thead>\n",
       "    <tr style=\"text-align: right;\">\n",
       "      <th></th>\n",
       "      <th>ent_name</th>\n",
       "      <th>grade</th>\n",
       "      <th>data</th>\n",
       "    </tr>\n",
       "  </thead>\n",
       "  <tbody>\n",
       "    <tr>\n",
       "      <td>0</td>\n",
       "      <td>1-й НПФ</td>\n",
       "      <td>A+</td>\n",
       "      <td>2014-03-26</td>\n",
       "    </tr>\n",
       "    <tr>\n",
       "      <td>1</td>\n",
       "      <td>А ПЛЮС ПАРК КОЛПИНО</td>\n",
       "      <td>A</td>\n",
       "      <td>2014-09-23</td>\n",
       "    </tr>\n",
       "    <tr>\n",
       "      <td>2</td>\n",
       "      <td>Абсолют Cтрахование</td>\n",
       "      <td>A+</td>\n",
       "      <td>2014-07-01</td>\n",
       "    </tr>\n",
       "    <tr>\n",
       "      <td>3</td>\n",
       "      <td>Аврора Капитал ИК</td>\n",
       "      <td>A</td>\n",
       "      <td>2014-09-24</td>\n",
       "    </tr>\n",
       "    <tr>\n",
       "      <td>4</td>\n",
       "      <td>Аврора Капитал ИК</td>\n",
       "      <td>A</td>\n",
       "      <td>2014-09-09</td>\n",
       "    </tr>\n",
       "  </tbody>\n",
       "</table>\n",
       "</div>"
      ],
      "text/plain": [
       "              ent_name grade        data\n",
       "0              1-й НПФ    A+  2014-03-26\n",
       "1  А ПЛЮС ПАРК КОЛПИНО     A  2014-09-23\n",
       "2  Абсолют Cтрахование    A+  2014-07-01\n",
       "3    Аврора Капитал ИК     A  2014-09-24\n",
       "4    Аврора Капитал ИК     A  2014-09-09"
      ]
     },
     "execution_count": 27,
     "metadata": {},
     "output_type": "execute_result"
    }
   ],
   "source": [
    "# Забираем нужные данные из базы data\n",
    "data=pd.read_sql_query(query,conn)\n",
    "data = pd.DataFrame(data)\n",
    "data.head()"
   ]
  },
  {
   "cell_type": "code",
   "execution_count": null,
   "metadata": {},
   "outputs": [],
   "source": []
  }
 ],
 "metadata": {
  "kernelspec": {
   "display_name": "Python 3",
   "language": "python",
   "name": "python3"
  },
  "language_info": {
   "codemirror_mode": {
    "name": "ipython",
    "version": 3
   },
   "file_extension": ".py",
   "mimetype": "text/x-python",
   "name": "python",
   "nbconvert_exporter": "python",
   "pygments_lexer": "ipython3",
   "version": "3.7.4"
  }
 },
 "nbformat": 4,
 "nbformat_minor": 2
}
