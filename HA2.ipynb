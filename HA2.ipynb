# Домашнее задание №2.
# Пункт 1.

# Команда соединяет Python с БД по API. Предварительно необходимо установить пакет Anaconda для исполнения команд в Jupyter Notebook.
# Первым шагом установливаем библиотеку psycopg2 для работы с PostgreSQL.
pip install psycopg2

# Затем создаем соединение с БД.
import psycopg2
import getpass
conn=psycopg2.connect(user = 'postgres',
                     database = 'postgres',
                     host = 'localhost',
                     port = '5432',
                     password = getpass.getpass('Insert password: '))
print(conn.get_dsn_parameters()) 

# После введения пароля в появившемся поле 'Insert password: ' должно появиться: 
# Insert password: ········
# {'user': 'postgres', 'dbname': 'postgres', 'host': 'localhost', 'port': '5432', 'tty': '', 'options': '', 'sslmode': 'prefer', 'sslcompression': '0', 'krbsrvname': 'postgres', 'target_session_attrs': 'any'}
# Соединение установлено.

# Пункт 2.
# Для того, чтобы обратиться к БД за данными для пункта 3 необходимо установить пакет pandas.
import pandas as pd

# Далее с помощью запроса через query получаем из таблицы ratings_task в БД вид рейтинга grade и дату date и помещаем данные в таблицу data
query="SELECT grade, 'date' FROM ratings_task"
data=pd.read_sql_query(query(),conn)
data

# Пункт 3.
# Перед созданием функции определяемся с аргументами: вид рейтинга - grade, дата присвоения - date (для устновки границ периода наблюдений пользователем) и login - db_login.
def my_fun(grade,date,db_login):
    import pandas as pd
    conn=psycopg2.connect(user=db_login['user'],
                      database=db_login['database'],
                      host=db_login['host'],
                      port=db_login['port'],
                      password=getpass.getpass('Insert password: '))
    query="SELECT grade, 'date' FROM ratings_task"
    data=pd.read_sql_query(query (),conn)
# Далее попытки посторить матрицу приводили к ошибкам, на выходе получалось не то, что нужно.

