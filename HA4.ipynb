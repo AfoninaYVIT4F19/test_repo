{
 "cells": [
  {
   "cell_type": "code",
   "execution_count": 1,
   "metadata": {},
   "outputs": [
    {
     "name": "stdout",
     "output_type": "stream",
     "text": [
      "Insert password: ········\n",
      "{'user': 'postgres', 'dbname': 'postgres', 'host': 'localhost', 'port': '5432', 'tty': '', 'options': '', 'sslmode': 'prefer', 'sslcompression': '0', 'krbsrvname': 'postgres', 'target_session_attrs': 'any'}\n"
     ]
    }
   ],
   "source": [
    "# Затем создаем соединение с БД. Чтобы посмотреть необходимые данные для подключения необходимо зайти в настройке вашего субд. \n",
    "# Если вы использовали PostgreSQL, данные можно посмотреть открыв SQL Shell на вашем компьютере.\n",
    "# Данные для подлючения будут показаны после нескольких нажатий на enter.\n",
    "import psycopg2 # это драйвер для postgresql\n",
    "import getpass # это функция, которая скрывает пароль, можно не вводить данную функцию, \n",
    "# тогда в строке password вам необходимо указать свой пароль от базы данных \n",
    "conn=psycopg2.connect(user = 'postgres',\n",
    "                     database = 'postgres',\n",
    "                     host = 'localhost',\n",
    "                     port = '5432',\n",
    "                     password = getpass.getpass('Insert password: '))\n",
    "# Проверяем подлючение\n",
    "print(conn.get_dsn_parameters()) "
   ]
  },
  {
   "cell_type": "code",
   "execution_count": 19,
   "metadata": {
    "scrolled": false
   },
   "outputs": [
    {
     "data": {
      "text/html": [
       "<div>\n",
       "<style scoped>\n",
       "    .dataframe tbody tr th:only-of-type {\n",
       "        vertical-align: middle;\n",
       "    }\n",
       "\n",
       "    .dataframe tbody tr th {\n",
       "        vertical-align: top;\n",
       "    }\n",
       "\n",
       "    .dataframe thead th {\n",
       "        text-align: right;\n",
       "    }\n",
       "</style>\n",
       "<table border=\"1\" class=\"dataframe\">\n",
       "  <thead>\n",
       "    <tr style=\"text-align: right;\">\n",
       "      <th></th>\n",
       "      <th>grade</th>\n",
       "      <th>quantity</th>\n",
       "    </tr>\n",
       "  </thead>\n",
       "  <tbody>\n",
       "    <tr>\n",
       "      <td>0</td>\n",
       "      <td>A</td>\n",
       "      <td>395</td>\n",
       "    </tr>\n",
       "    <tr>\n",
       "      <td>1</td>\n",
       "      <td>A.mfi</td>\n",
       "      <td>17</td>\n",
       "    </tr>\n",
       "    <tr>\n",
       "      <td>2</td>\n",
       "      <td>A+</td>\n",
       "      <td>178</td>\n",
       "    </tr>\n",
       "    <tr>\n",
       "      <td>3</td>\n",
       "      <td>A+.mfi</td>\n",
       "      <td>12</td>\n",
       "    </tr>\n",
       "    <tr>\n",
       "      <td>4</td>\n",
       "      <td>A++</td>\n",
       "      <td>84</td>\n",
       "    </tr>\n",
       "    <tr>\n",
       "      <td>5</td>\n",
       "      <td>A++.mfi</td>\n",
       "      <td>4</td>\n",
       "    </tr>\n",
       "    <tr>\n",
       "      <td>6</td>\n",
       "      <td>B</td>\n",
       "      <td>6</td>\n",
       "    </tr>\n",
       "    <tr>\n",
       "      <td>7</td>\n",
       "      <td>B+</td>\n",
       "      <td>17</td>\n",
       "    </tr>\n",
       "    <tr>\n",
       "      <td>8</td>\n",
       "      <td>B++</td>\n",
       "      <td>95</td>\n",
       "    </tr>\n",
       "    <tr>\n",
       "      <td>9</td>\n",
       "      <td>B++.mfi</td>\n",
       "      <td>2</td>\n",
       "    </tr>\n",
       "    <tr>\n",
       "      <td>10</td>\n",
       "      <td>BBB</td>\n",
       "      <td>2</td>\n",
       "    </tr>\n",
       "    <tr>\n",
       "      <td>11</td>\n",
       "      <td>BBB-</td>\n",
       "      <td>1</td>\n",
       "    </tr>\n",
       "    <tr>\n",
       "      <td>12</td>\n",
       "      <td>C</td>\n",
       "      <td>4</td>\n",
       "    </tr>\n",
       "    <tr>\n",
       "      <td>13</td>\n",
       "      <td>C+</td>\n",
       "      <td>8</td>\n",
       "    </tr>\n",
       "    <tr>\n",
       "      <td>14</td>\n",
       "      <td>C++</td>\n",
       "      <td>4</td>\n",
       "    </tr>\n",
       "    <tr>\n",
       "      <td>15</td>\n",
       "      <td>E</td>\n",
       "      <td>12</td>\n",
       "    </tr>\n",
       "    <tr>\n",
       "      <td>16</td>\n",
       "      <td>Приостановлен</td>\n",
       "      <td>5</td>\n",
       "    </tr>\n",
       "    <tr>\n",
       "      <td>17</td>\n",
       "      <td>Снят</td>\n",
       "      <td>65</td>\n",
       "    </tr>\n",
       "  </tbody>\n",
       "</table>\n",
       "</div>"
      ],
      "text/plain": [
       "            grade  quantity\n",
       "0               A       395\n",
       "1           A.mfi        17\n",
       "2              A+       178\n",
       "3          A+.mfi        12\n",
       "4             A++        84\n",
       "5         A++.mfi         4\n",
       "6               B         6\n",
       "7              B+        17\n",
       "8             B++        95\n",
       "9         B++.mfi         2\n",
       "10            BBB         2\n",
       "11           BBB-         1\n",
       "12              C         4\n",
       "13             C+         8\n",
       "14            C++         4\n",
       "15              E        12\n",
       "16  Приостановлен         5\n",
       "17           Снят        65"
      ]
     },
     "execution_count": 19,
     "metadata": {},
     "output_type": "execute_result"
    }
   ],
   "source": [
    "# Для того, чтобы обратиться к БД за данными необходимо установить пакет pandas.\n",
    "# Создаем таблицу для отчета \"Распределение установленных рейтингов агенством Эксперт РА в 2014 году\". \n",
    "# Таблица придумана рандомная. \n",
    "import pandas as pd\n",
    "query=\"SELECT \\\"grade\\\", count(\\\"ent_name\\\") as quantity FROM ratings_task WHERE data >= '01.01.2014' AND data <= '31.12.2014' AND agency_id = 'EXP' GROUP BY \\\"grade\\\" ORDER BY \\\"grade\\\";\"\n",
    "ratings=pd.read_sql_query(query,conn)\n",
    "ratings"
   ]
  },
  {
   "cell_type": "code",
   "execution_count": 22,
   "metadata": {},
   "outputs": [
    {
     "data": {
      "image/png": "[encoded data removed]",
      "text/plain": [
       "<Figure size 432x288 with 1 Axes>"
      ]
     },
     "metadata": {
      "needs_background": "light"
     },
     "output_type": "display_data"
    },
    {
     "data": {
      "text/plain": [
       "<Figure size 432x288 with 0 Axes>"
      ]
     },
     "metadata": {},
     "output_type": "display_data"
    }
   ],
   "source": [
    "# Создаем график для отчета. График тоже сделан рандомный, не из прошлых ДЗ, чтобы показать как выгружать и формировать отчет. \n",
    "# Сначала необходимо скачать библиотеки для построения графика.\n",
    "import matplotlib as plt\n",
    "import matplotlib.pyplot as plt\n",
    "ratings.T\n",
    "plt.hist(ratings.values)\n",
    "plt.title('Распределение установленных рейтингов агенством Эксперт РА в 2014 году')\n",
    "plt.show()\n",
    "\n",
    "# Сохраняем картинку в рабочую диреткорию\n",
    "plt.savefig('ratings.png')"
   ]
  },
  {
   "cell_type": "code",
   "execution_count": 23,
   "metadata": {},
   "outputs": [
    {
     "ename": "ModuleNotFoundError",
     "evalue": "No module named 'weasyprint'",
     "output_type": "error",
     "traceback": [
      "\u001b[1;31m---------------------------------------------------------------------------\u001b[0m",
      "\u001b[1;31mModuleNotFoundError\u001b[0m                       Traceback (most recent call last)",
      "\u001b[1;32m<ipython-input-23-eef2de0a16b3>\u001b[0m in \u001b[0;36m<module>\u001b[1;34m\u001b[0m\n\u001b[0;32m      2\u001b[0m \u001b[1;32mfrom\u001b[0m \u001b[0m__future__\u001b[0m \u001b[1;32mimport\u001b[0m \u001b[0mprint_function\u001b[0m\u001b[1;33m\u001b[0m\u001b[1;33m\u001b[0m\u001b[0m\n\u001b[0;32m      3\u001b[0m \u001b[1;32mfrom\u001b[0m \u001b[0mjinja2\u001b[0m \u001b[1;32mimport\u001b[0m \u001b[0mEnvironment\u001b[0m\u001b[1;33m,\u001b[0m \u001b[0mFileSystemLoader\u001b[0m\u001b[1;33m\u001b[0m\u001b[1;33m\u001b[0m\u001b[0m\n\u001b[1;32m----> 4\u001b[1;33m \u001b[1;32mfrom\u001b[0m \u001b[0mweasyprint\u001b[0m \u001b[1;32mimport\u001b[0m \u001b[0mHTML\u001b[0m\u001b[1;33m,\u001b[0m \u001b[0mDocument\u001b[0m\u001b[1;33m\u001b[0m\u001b[1;33m\u001b[0m\u001b[0m\n\u001b[0m\u001b[0;32m      5\u001b[0m \u001b[1;32mimport\u001b[0m \u001b[0mos\u001b[0m\u001b[1;33m\u001b[0m\u001b[1;33m\u001b[0m\u001b[0m\n\u001b[0;32m      6\u001b[0m \u001b[1;33m\u001b[0m\u001b[0m\n",
      "\u001b[1;31mModuleNotFoundError\u001b[0m: No module named 'weasyprint'"
     ]
    }
   ],
   "source": [
    "# Перед генерацией отчета устанавливаем все необходимые библитеки\n",
    "from __future__ import print_function\n",
    "from jinja2 import Environment, FileSystemLoader\n",
    "from weasyprint import HTML, Document\n",
    "import os\n",
    "\n",
    "# Далее генирируем отчет\n",
    "env = Environment(loader=FileSystemLoader('.'))\n",
    "template = env.get_template(\"myreport.html\") # Шаблон предварительно был загружен в директорию\n",
    "template_vars = {\"title\": \"Отчет: составила Афонина Юлия\",\n",
    "                 \"INTRO\": \"В документа расположена таблица и график, иллюстрирующие распределение рейтингов, установленных агенством Эксперт РА в 2014 году\",\n",
    "                 \"TABLE_DESC\": \"В таблице показано распределение рейтингов, выставленных компаниям агенством Эксперт РА в 2014 году. В столбце  grade приведен рейтинг, в столбце quantity приведено кол-во компаний, которым был присвоен данный рейтинг.\",\n",
    "                 \"TABLE\": ratings.to_html(), \n",
    "                 \"IMAGE_DESC\": \"Рисунок иллюстрирует распределение установленных рейтингов агенством Эксперт РА в 2014 году\", \n",
    "                 \"IMAGE\": os.path.realpath('ratings.png') # Рисунок был предварительно сохранен в рабочую директорию выше\n",
    "                }\n",
    "\n",
    "# Формируем отчет в формате pdf\n",
    "html_out = template.render(template_vars, presentational_hints=True)\n",
    "HTML(string=html_out).write_pdf('Отчет по рейтингам Эксперт РА.pdf', presentational_hints=True)"
   ]
  },
  {
   "cell_type": "code",
   "execution_count": null,
   "metadata": {},
   "outputs": [],
   "source": []
  }
 ],
 "metadata": {
  "kernelspec": {
   "display_name": "Python 3",
   "language": "python",
   "name": "python3"
  },
  "language_info": {
   "codemirror_mode": {
    "name": "ipython",
    "version": 3
   },
   "file_extension": ".py",
   "mimetype": "text/x-python",
   "name": "python",
   "nbconvert_exporter": "python",
   "pygments_lexer": "ipython3",
   "version": "3.7.4"
  }
 },
 "nbformat": 4,
 "nbformat_minor": 2
}
